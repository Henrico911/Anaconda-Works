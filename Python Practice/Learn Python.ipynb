{
 "cells": [
  {
   "cell_type": "code",
   "execution_count": null,
   "id": "e99168d3",
   "metadata": {},
   "outputs": [],
   "source": [
    "#FIRST CODE\n",
    "# print(\"I love you Skurge\")"
   ]
  },
  {
   "cell_type": "code",
   "execution_count": null,
   "id": "b1a5ae1d",
   "metadata": {},
   "outputs": [],
   "source": [
    "#string data type\n",
    "# name = \"skurge\"\n",
    "# print(name)\n",
    "# print(type(name))"
   ]
  },
  {
   "cell_type": "code",
   "execution_count": null,
   "id": "559d9469",
   "metadata": {},
   "outputs": [],
   "source": [
    "#INT data type\n",
    "# age = 21\n",
    "# age += 2\n",
    "# print(\"Your age is: \" + str(age))\n",
    "# print(type(age))"
   ]
  },
  {
   "cell_type": "code",
   "execution_count": null,
   "id": "10a006e1",
   "metadata": {},
   "outputs": [],
   "source": [
    "#FLOAT data type\n",
    "# height = 250.5\n",
    "# print(\"Your height is: \" + str(height) + \"cm\")\n",
    "# print(type(height))"
   ]
  },
  {
   "cell_type": "code",
   "execution_count": null,
   "id": "0622fba5",
   "metadata": {},
   "outputs": [],
   "source": [
    "#BOOLEAN data type\n",
    "# human = False\n",
    "# print(\"Are you a human?: \" + str(human))\n",
    "# print(type(human))"
   ]
  },
  {
   "cell_type": "code",
   "execution_count": null,
   "id": "7a72a78c",
   "metadata": {},
   "outputs": [],
   "source": [
    "#DECLARATION of variables\n",
    "# name = \"skurge\"\n",
    "# age = 21\n",
    "# height = 255.7\n",
    "\n",
    "# print(name)\n",
    "# print(age)\n",
    "# print(height)"
   ]
  },
  {
   "cell_type": "code",
   "execution_count": null,
   "id": "36a231e2",
   "metadata": {},
   "outputs": [],
   "source": [
    "#MULTIPLE ASSIGNMENT\n",
    "# name, age, attractive = \"skurge\", 21, True\n",
    "# print(name)\n",
    "# print(age)\n",
    "# print(attractive)"
   ]
  },
  {
   "cell_type": "code",
   "execution_count": null,
   "id": "43b65fe4",
   "metadata": {},
   "outputs": [],
   "source": [
    "#MULTIPLE ASSIGNMENT for the same value\n",
    "# spongebob = squidward = sandy = patrick = 30\n",
    "# print(spongebob)\n",
    "# print(squidward)\n",
    "# print(sandy)\n",
    "# print(patrick)"
   ]
  },
  {
   "cell_type": "code",
   "execution_count": null,
   "id": "cf7b6cc2",
   "metadata": {},
   "outputs": [],
   "source": [
    "#STRING METHODS\n",
    "#name = \"Skurge Technologies\"\n",
    "\n",
    "# print(name)\n",
    "# print(len(name))               #length of the name skurge\n",
    "# print(type(name))              #the data type\n",
    "# print(name.find(\"r\"))          #where r is indexed at\n",
    "# print(name.upper())            #upper case of the name skurge\n",
    "# print(name.lower())            #lower case letters\n",
    "# print(name.capitalize())       #capitalizes only the first letter of the first word\n",
    "# print(name.isdigit())          #check whether it is contained of digits\n",
    "# print(name.isalpha())          #check whether it is all capital\n",
    "# print(name.count(\"e\"))         #count the number of \"e\"s\n",
    "# print(name.replace(\"e\", \"o\"))  #replace all \"e\"s with \"o\"\n",
    "#  print(name * 3)                  #print times three"
   ]
  },
  {
   "cell_type": "code",
   "execution_count": null,
   "id": "097bb247",
   "metadata": {},
   "outputs": [],
   "source": [
    "#TYPE CASTING: the ability to convert a data type of a value to another data type\n",
    "# x = 1     #int\n",
    "# y = 2.0   #float\n",
    "# z = \"3\"   #str\n",
    "\n",
    "# x = float(x)\n",
    "# y = float(y)\n",
    "# z = float(z)\n",
    "\n",
    "# print(x)\n",
    "# print(y)\n",
    "# print(z * 3)"
   ]
  },
  {
   "cell_type": "code",
   "execution_count": null,
   "id": "f459e31b",
   "metadata": {},
   "outputs": [],
   "source": [
    "#USER INPUT\n",
    "# name = input(\"What is your name?: \")\n",
    "# age = int(input(\"How old are you?: \"))\n",
    "# height = float(input(\"How tall are you?: \"))\n",
    "\n",
    "# print(\"Hello \"+ name)\n",
    "# print(\"You are \" +str(age)+ \" years old\")\n",
    "# print(\"You are \" +str(height)+ \"feet tall\")"
   ]
  },
  {
   "cell_type": "code",
   "execution_count": null,
   "id": "fe898134",
   "metadata": {},
   "outputs": [],
   "source": [
    "#MATH OPERATIONS\n",
    "# import math\n",
    "\n",
    "# pi = 3.14\n",
    "# x = 1\n",
    "# y = 2\n",
    "# z = 3\n",
    "\n",
    "# print(round(pi))          #round off\n",
    "# print(math.ceil(pi))      #round up : 4\n",
    "# print(math.floor(pi))     #round down : 3\n",
    "# print(abs(pi))            #absolute value\n",
    "# print(pow(pi, 2))         #power function\n",
    "# print(math.sqrt(420))     #square root\n",
    "# print(max(x, y, z))       #largest value of the three\n",
    "# print(min(x, y, z))       #lowest value of the three"
   ]
  },
  {
   "cell_type": "code",
   "execution_count": 1,
   "id": "f53f6e9f",
   "metadata": {},
   "outputs": [],
   "source": [
    "#SLICING strings = create a substring by extracting elements from another string\n",
    "#          indexing[] or slice()\n",
    "#          [start:stop:step] -->indexing\n",
    "#          (start, stop, step) -->slicing\n",
    "\n",
    "\n",
    "          #USING INDEXING[]\n",
    "# name = \"Alpha Skurge\"\n",
    "# first_name = name[0:5]\n",
    "# last_name = name[6:]\n",
    "# nick_name = name[0:12:2]    #print every second character including the first\n",
    "# other_name = name[0::3]     #print every third character including the first\n",
    "# reversed_name = name[::-1]  #print reversed name\n",
    "\n",
    "# print(first_name)\n",
    "# print(last_name)\n",
    "# print(nick_name)\n",
    "# print(other_name)\n",
    "# print(reversed_name)\n",
    "\n",
    "\n",
    "          #USING SLICING()\n",
    "# website1 = \"https://google.com\"\n",
    "# website2 = \"https://wikipedia.com\"\n",
    "\n",
    "# chop = slice(8, -4)\n",
    "\n",
    "# print(website1[chop])\n",
    "# print(website2[chop])"
   ]
  },
  {
   "cell_type": "code",
   "execution_count": null,
   "id": "177f713d",
   "metadata": {},
   "outputs": [],
   "source": [
    "#IF statements = a block of code that will execute if it's condition is true\n",
    "\n",
    "# age = int(input(\"How old are you?: \"))\n",
    "\n",
    "# if age == 100:\n",
    "#     print(\"You are a century old\")\n",
    "# elif age >= 1500:\n",
    "#     print(\"You are a millenium old\")\n",
    "#     if age == 1500:\n",
    "#         print(\"Are you a vampire?\")\n",
    "# elif age >= 18:\n",
    "#     print(\"You are an adult\")\n",
    "# elif age < 0:\n",
    "#     print(\"You havent been born yet\")\n",
    "# else:\n",
    "#     print(\"You are still a child\")"
   ]
  },
  {
   "cell_type": "code",
   "execution_count": null,
   "id": "9d2baa94",
   "metadata": {},
   "outputs": [],
   "source": [
    "#LOGICAL operators (and,or,not) = used to check if two or moe conditional statements are true\n",
    "\n",
    "# temp = int(input(\"What is the temperature outside?: \"))\n",
    "\n",
    "# if temp >= 0 and temp <= 30:\n",
    "#     print(\"The temperature is good today!\")\n",
    "#     print(\"Go outside\")\n",
    "# elif temp < 0 or temp > 30:\n",
    "#     print(\"The tempearture is bad today!\")\n",
    "#     print(\"Stay indoors\")\n",
    "\n",
    "# if not(temp >= 0 and temp <= 30):\n",
    "#     print(\"The tempearture is bad today!\")\n",
    "#     print(\"Stay indoors\")\n",
    "    \n",
    "# elif not(temp < 0 or temp > 30):\n",
    "#     print(\"The temperature is good today!\")\n",
    "#     print(\"Go outside\")"
   ]
  },
  {
   "cell_type": "code",
   "execution_count": 4,
   "id": "559a2eac",
   "metadata": {},
   "outputs": [],
   "source": [
    "#WHILE loop = a statement that will execute it's block of code,\n",
    "#             as long as it's condition remains true\n",
    "\n",
    "       #infinite loop\n",
    "# while 1 == 1:\n",
    "    # name = print(\"Help! I'm stuck in a loop!\")\n",
    "    \n",
    "       #Example one\n",
    "# name = \"\"\n",
    "\n",
    "# while len(name) == 0:\n",
    "#     name = input(\"Enter your name: \")\n",
    "    \n",
    "# print(\"Hello \" + name)\n",
    "\n",
    "\n",
    "        #Example two\n",
    "# name = None\n",
    "\n",
    "# while not name:\n",
    "#     name = input(\"Enter your name: \")    \n",
    "# print(\"Hello \" + name)"
   ]
  },
  {
   "cell_type": "code",
   "execution_count": 15,
   "id": "cda3b45e",
   "metadata": {},
   "outputs": [],
   "source": [
    "# import time\n",
    "# FOR LOOP = a statement that will execute it's block of code\n",
    "#            a limited number of time\n",
    "#            while loop = unlimited\n",
    "#            for loop = limited\n",
    "\n",
    "# for i in range(10):\n",
    "#     print(i+1)\n",
    "\n",
    "# for i in range(50,65+1):\n",
    "#     print(i)\n",
    "\n",
    "# for i in range(50,65+1,2):\n",
    "#     print(i)\n",
    "\n",
    "# for i in range(50,65+1,3):  #3 steps\n",
    "#     print(i)\n",
    "\n",
    "# for i in \"Alpha Skurge\":    #iterate through the name\n",
    "#     print(i)\n",
    "\n",
    "# for seconds in range(10,0,-1):  #count down happy new year 2024\n",
    "#     print(seconds)\n",
    "#     time.sleep(1)\n",
    "# print(\"Happy New Year\")\n",
    "\n"
   ]
  },
  {
   "cell_type": "code",
   "execution_count": 2,
   "id": "f9bd5926",
   "metadata": {},
   "outputs": [],
   "source": [
    "#nested loops = The \"inner loop\" will finish all of it's iterations before\n",
    "#                finishing one iteration of the \"outer loop\"\n",
    "\n",
    "# rows = int(input(\"How many rows?: \"))\n",
    "# columns = int(input(\"How many columns?: \"))\n",
    "# symbol = input(\"Enter a symbol to use: \")\n",
    "\n",
    "# for i in range(rows):\n",
    "#     for j in range(columns):\n",
    "#         print(symbol, end=\"\")\n",
    "#     print()\n"
   ]
  },
  {
   "cell_type": "code",
   "execution_count": 4,
   "id": "fcca8d58",
   "metadata": {},
   "outputs": [
    {
     "name": "stdout",
     "output_type": "stream",
     "text": [
      "1234567890"
     ]
    }
   ],
   "source": [
    "#loop control statements = change a lop execution from it's normal sequence\n",
    "\n",
    "#break    =       used to terminate the loop entirely\n",
    "#continue =       skips to the next iteration of the loop\n",
    "#pass     =       does nothing, acts as a placeholder\n",
    "\n",
    "\n",
    "       #using break\n",
    "# while True:\n",
    "#     name = input(\"Enter your name: \")\n",
    "#     if name != \"\":\n",
    "#         break\n",
    "\n",
    "\n",
    "       #using continue\n",
    "# phone_number = \"123-456-7890\"\n",
    "# for i in phone_number:\n",
    "#     if i == \"-\":\n",
    "#         continue\n",
    "#     print(i, end=\"\")\n",
    "\n",
    "\n",
    "       #using pass\n",
    "# for i in range(1,21):\n",
    "#     if i == 13:\n",
    "#         pass\n",
    "#     else:\n",
    "#         print(i)    "
   ]
  },
  {
   "cell_type": "code",
   "execution_count": 32,
   "id": "1fe46af6",
   "metadata": {},
   "outputs": [],
   "source": [
    "#list = used to store multiple items in a single variable\n",
    "\n",
    "# food = [\"pizza\", \"hamburger\", \"hotdog\", \"spaghetti\", \"pudding\"]\n",
    "\n",
    "# print(food[0])\n",
    "# print(food[1])\n",
    "# print(food[2])\n",
    "# print(food[3])\n",
    "# print(food[4])\n",
    "\n",
    "# food[0] = \"kikomando\"\n",
    "\n",
    "# food[1] = \"chapati\"\n",
    "\n",
    "# for x in food:\n",
    "#     print(x)\n",
    "\n",
    "\n",
    "#list functions\n",
    "# food.append(\"ice cream\")\n",
    "# food.remove(\"hotdog\")\n",
    "# food.pop()\n",
    "# food.insert(0, \"cake\")\n",
    "# food.sort()\n",
    "# food.clear()\n",
    "\n",
    "\n",
    "# for x in food:\n",
    "#     print(x)"
   ]
  },
  {
   "cell_type": "code",
   "execution_count": 17,
   "id": "e980bcb7",
   "metadata": {},
   "outputs": [],
   "source": [
    "#2d lists = a list of lists\n",
    "\n",
    "# drinks = [\"coffee\", \"soda\", \"tea\"]\n",
    "# dinner = [\"pizza\", \"hamburger\", \"hotdog\"]\n",
    "# dessert = [\"cake\", \"ice cream\"]\n",
    "\n",
    "# food= [drinks, dinner, dessert]\n",
    "\n",
    "# print(food)\n",
    "# print(food[1])\n",
    "# print(food[0][0][3:])\n",
    "# print(food[1][1][4:8])\n",
    "# print(food[0][2])"
   ]
  },
  {
   "cell_type": "code",
   "execution_count": 24,
   "id": "9ff0e6fa",
   "metadata": {},
   "outputs": [],
   "source": [
    "# tuple = collection which is orderes and unchangeable\n",
    "#         used to group together related data\n",
    "\n",
    "# student = (\"Skurge\", 21, \"Male\")\n",
    "\n",
    "# print(student.count(\"Skurge\"))\n",
    "# print(student.index(\"Male\"))\n",
    "\n",
    "\n",
    "# for x in student:\n",
    "#     print (x)\n",
    "\n",
    "# if \"Skurge\" in student:\n",
    "#     print(\"Skurge is here!\")"
   ]
  },
  {
   "cell_type": "code",
   "execution_count": 2,
   "id": "75a2b313",
   "metadata": {},
   "outputs": [],
   "source": [
    "# set = collection which is unordered, unindexed. No duplicate values\n",
    "\n",
    "# utensils = {\"fork\", \"spoon\", \"knife\"}\n",
    "# dishes = {\"bowl\", \"plate\", \"cup\",\"knife\"}\n",
    "\n",
    "# utensils.add(\"napkin\")\n",
    "# utensils.remove(\"fork\")\n",
    "# utensils.clear()\n",
    "# dishes.update(utensils)\n",
    "# dinner_table = utensils.union(dishes)\n",
    "\n",
    "# print(utensils.difference(dishes))\n",
    "# print(dishes.difference(utensils))\n",
    "# print(utensils.intersection(dishes))\n",
    "\n",
    "# for x in dinner_table:\n",
    "#     print(x)"
   ]
  },
  {
   "cell_type": "code",
   "execution_count": null,
   "id": "8dc75c5a",
   "metadata": {},
   "outputs": [],
   "source": [
    "#dictionary = A changeable, unordered collection of unique key:value pairs\n",
    "#             Fast because they use hashing, allow us to access a value quickly\n",
    "\n",
    "\n"
   ]
  }
 ],
 "metadata": {
  "kernelspec": {
   "display_name": "Python 3 (ipykernel)",
   "language": "python",
   "name": "python3"
  },
  "language_info": {
   "codemirror_mode": {
    "name": "ipython",
    "version": 3
   },
   "file_extension": ".py",
   "mimetype": "text/x-python",
   "name": "python",
   "nbconvert_exporter": "python",
   "pygments_lexer": "ipython3",
   "version": "3.11.5"
  }
 },
 "nbformat": 4,
 "nbformat_minor": 5
}
