{
 "cells": [
  {
   "cell_type": "code",
   "execution_count": 1,
   "id": "db00b24f",
   "metadata": {},
   "outputs": [
    {
     "name": "stdout",
     "output_type": "stream",
     "text": [
      "Optimal Solution:\n",
      "Quantity of Product A (x1): 211.53846\n",
      "Quantity of Product B (x2): 153.84615\n",
      "Maximum Profit (Z): 1673.0769\n"
     ]
    }
   ],
   "source": [
    "#Importing necessary libraries\n",
    "from pulp import LpProblem, LpMaximize, LpVariable\n",
    "\n",
    "# Create a linear programming problem\n",
    "our_prob = LpProblem(name=\"Product_Mix_Optimization\", sense=LpMaximize)\n",
    "\n",
    "# Define decision variables\n",
    "x1 = LpVariable(name=\"x1\", lowBound=0)  # Quantity of product A\n",
    "x2 = LpVariable(name=\"x2\", lowBound=0)  # Quantity of product B\n",
    "\n",
    "# Define the objective function\n",
    "our_prob += 3 * x1 + 2 * x2, \"Objective\"\n",
    "\n",
    "# Define constraints\n",
    "our_prob += 4 * x1 + x2 <= 1000, \"Raw_Material_Constraint\"\n",
    "our_prob += 1 * x1 + 8 * x2 <= 2400, \"Labor_Constraint\"\n",
    "our_prob += 2 * x1 + 7 * x2 <= 1500, \"Machine_Constraint\"\n",
    "\n",
    "# Solve the linear programming problem\n",
    "our_prob.solve()\n",
    "\n",
    "# Display the results\n",
    "print(\"Optimal Solution:\")\n",
    "print(f\"Quantity of Product A (x1): {x1.varValue}\")\n",
    "print(f\"Quantity of Product B (x2): {x2.varValue}\")\n",
    "print(f\"Maximum Profit (Z): {model.objective.value()}\")"
   ]
  },
  {
   "cell_type": "code",
   "execution_count": null,
   "id": "d3e7edb8",
   "metadata": {},
   "outputs": [],
   "source": []
  }
 ],
 "metadata": {
  "kernelspec": {
   "display_name": "Python 3 (ipykernel)",
   "language": "python",
   "name": "python3"
  },
  "language_info": {
   "codemirror_mode": {
    "name": "ipython",
    "version": 3
   },
   "file_extension": ".py",
   "mimetype": "text/x-python",
   "name": "python",
   "nbconvert_exporter": "python",
   "pygments_lexer": "ipython3",
   "version": "3.11.5"
  }
 },
 "nbformat": 4,
 "nbformat_minor": 5
}
