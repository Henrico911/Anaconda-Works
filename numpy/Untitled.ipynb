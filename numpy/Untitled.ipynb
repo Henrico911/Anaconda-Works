{
 "cells": [
  {
   "cell_type": "markdown",
   "id": "b778e044",
   "metadata": {},
   "source": [
    "Loading numpy"
   ]
  },
  {
   "cell_type": "code",
   "execution_count": 63,
   "id": "2aaf5bac",
   "metadata": {},
   "outputs": [],
   "source": [
    "import numpy as np"
   ]
  },
  {
   "cell_type": "code",
   "execution_count": 62,
   "id": "6e280f51",
   "metadata": {},
   "outputs": [],
   "source": [
    "# a = np.array([1,2,3],  dtype='int32')\n",
    "# print (a) #1 dimensional"
   ]
  },
  {
   "cell_type": "code",
   "execution_count": 60,
   "id": "df0d02a6",
   "metadata": {},
   "outputs": [],
   "source": [
    "# b = np.array([[9.0,8.0,7.0],[6.0, 5.0, 4.0]])\n",
    "# print(b) #2 dimensional"
   ]
  },
  {
   "cell_type": "code",
   "execution_count": 61,
   "id": "11164fd1",
   "metadata": {},
   "outputs": [],
   "source": [
    "# c = np.array([[9.0,8.0,7.0],[6.0, 5.0, 4.0],[23,45,67]])\n",
    "# print(c) #2 dimensional"
   ]
  },
  {
   "cell_type": "code",
   "execution_count": 48,
   "id": "25aee56e",
   "metadata": {},
   "outputs": [],
   "source": [
    "#get dimension\n",
    "# a.ndim\n",
    "# b.ndim\n",
    "# c.ndim\n"
   ]
  },
  {
   "cell_type": "code",
   "execution_count": 49,
   "id": "1fe018ce",
   "metadata": {},
   "outputs": [],
   "source": [
    "#get shape\n",
    "# a.shape\n",
    "# b.shape\n",
    "# c.shape"
   ]
  },
  {
   "cell_type": "code",
   "execution_count": 50,
   "id": "b83d1642",
   "metadata": {},
   "outputs": [],
   "source": [
    "# get type\n",
    "# a.dtype\n",
    "# b.dtype\n",
    "# c.dtype\n"
   ]
  },
  {
   "cell_type": "code",
   "execution_count": 51,
   "id": "42debef1",
   "metadata": {},
   "outputs": [],
   "source": [
    "# get size\n",
    "# a.itemsize   #smaller\n",
    "# b.itemsize   #bigger\n",
    "# c.itemsize"
   ]
  },
  {
   "cell_type": "code",
   "execution_count": 55,
   "id": "87189379",
   "metadata": {},
   "outputs": [],
   "source": [
    "# get total size\n",
    "# a.nbytes\n",
    "# b.nbytes\n",
    "# c.nbytes"
   ]
  },
  {
   "cell_type": "markdown",
   "id": "b889018a",
   "metadata": {},
   "source": [
    "Accessing/changing specific elements"
   ]
  },
  {
   "cell_type": "code",
   "execution_count": 64,
   "id": "8e7787b8",
   "metadata": {},
   "outputs": [
    {
     "name": "stdout",
     "output_type": "stream",
     "text": [
      "[[ 1  2  3  4  5  6  7]\n",
      " [ 8  9 10 11 12 13 14]]\n"
     ]
    }
   ],
   "source": [
    "a = np.array([[1,2,3,4,5,6,7],[8,9,10,11,12,13,14]])\n",
    "print(a)"
   ]
  },
  {
   "cell_type": "code",
   "execution_count": 70,
   "id": "4927581a",
   "metadata": {},
   "outputs": [],
   "source": [
    "#  a.shape"
   ]
  },
  {
   "cell_type": "code",
   "execution_count": 71,
   "id": "127eb9d3",
   "metadata": {},
   "outputs": [
    {
     "data": {
      "text/plain": [
       "13"
      ]
     },
     "execution_count": 71,
     "metadata": {},
     "output_type": "execute_result"
    }
   ],
   "source": [
    "#get a specific element[row-index, column-index]\n",
    "a[1, 5]"
   ]
  },
  {
   "cell_type": "code",
   "execution_count": 74,
   "id": "60c18852",
   "metadata": {},
   "outputs": [
    {
     "data": {
      "text/plain": [
       "array([1, 2, 3, 4, 5, 6, 7])"
      ]
     },
     "execution_count": 74,
     "metadata": {},
     "output_type": "execute_result"
    }
   ],
   "source": [
    "#get a specific row\n",
    "a[0,:]"
   ]
  },
  {
   "cell_type": "code",
   "execution_count": 76,
   "id": "09873ad9",
   "metadata": {},
   "outputs": [
    {
     "data": {
      "text/plain": [
       "array([ 3, 10])"
      ]
     },
     "execution_count": 76,
     "metadata": {},
     "output_type": "execute_result"
    }
   ],
   "source": [
    "#get a specific column\n",
    "a[:,2]"
   ]
  },
  {
   "cell_type": "code",
   "execution_count": 80,
   "id": "0656ea27",
   "metadata": {},
   "outputs": [
    {
     "data": {
      "text/plain": [
       "array([2, 4, 6])"
      ]
     },
     "execution_count": 80,
     "metadata": {},
     "output_type": "execute_result"
    }
   ],
   "source": [
    "#getting a lot more fancy [startindex:stopindex:stepsize]\n",
    "a[0,1:-1:2]"
   ]
  },
  {
   "cell_type": "code",
   "execution_count": 81,
   "id": "3c495aff",
   "metadata": {},
   "outputs": [],
   "source": [
    "a[1,5] = 20"
   ]
  },
  {
   "cell_type": "code",
   "execution_count": 84,
   "id": "46de8c88",
   "metadata": {},
   "outputs": [
    {
     "name": "stdout",
     "output_type": "stream",
     "text": [
      "[[ 1  2  5  4  5  6  7]\n",
      " [ 8  9  5 11 12 20 14]]\n"
     ]
    }
   ],
   "source": [
    "print(a)"
   ]
  },
  {
   "cell_type": "code",
   "execution_count": 85,
   "id": "a212c4d0",
   "metadata": {},
   "outputs": [],
   "source": [
    "a[:,2] = 5"
   ]
  },
  {
   "cell_type": "code",
   "execution_count": 86,
   "id": "086723ec",
   "metadata": {},
   "outputs": [
    {
     "name": "stdout",
     "output_type": "stream",
     "text": [
      "[[ 1  2  5  4  5  6  7]\n",
      " [ 8  9  5 11 12 20 14]]\n"
     ]
    }
   ],
   "source": [
    "print(a)"
   ]
  },
  {
   "cell_type": "code",
   "execution_count": null,
   "id": "fb57a4d3",
   "metadata": {},
   "outputs": [],
   "source": []
  }
 ],
 "metadata": {
  "kernelspec": {
   "display_name": "Python 3 (ipykernel)",
   "language": "python",
   "name": "python3"
  },
  "language_info": {
   "codemirror_mode": {
    "name": "ipython",
    "version": 3
   },
   "file_extension": ".py",
   "mimetype": "text/x-python",
   "name": "python",
   "nbconvert_exporter": "python",
   "pygments_lexer": "ipython3",
   "version": "3.11.5"
  }
 },
 "nbformat": 4,
 "nbformat_minor": 5
}
