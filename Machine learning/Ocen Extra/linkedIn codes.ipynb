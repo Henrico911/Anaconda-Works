{
 "cells": [
  {
   "cell_type": "markdown",
   "id": "7b81f295",
   "metadata": {},
   "source": [
    "<h2>Greedy algorithm for the coin change problem</h2>"
   ]
  },
  {
   "cell_type": "code",
   "execution_count": 9,
   "id": "dac52d0d",
   "metadata": {},
   "outputs": [
    {
     "name": "stdout",
     "output_type": "stream",
     "text": [
      "Greedy Coin Change: [25, 25, 10, 1, 1, 1]\n"
     ]
    }
   ],
   "source": [
    "def greedy_coin_change(coins, target_amount):\n",
    "    coins.sort(reverse=True)\n",
    "    change = []\n",
    "    remaining_amount = target_amount\n",
    "    \n",
    "    for coin in coins:\n",
    "        while remaining_amount >= coin:\n",
    "            change.append(coin)\n",
    "            remaining_amount -= coin\n",
    "    \n",
    "    return change\n",
    "\n",
    "coins = [1, 5, 10, 25]\n",
    "target_amount = 63\n",
    "result = greedy_coin_change(coins, target_amount)\n",
    "print(\"Greedy Coin Change:\", result)  # Output: [25, 25, 10, 1, 1, 1]"
   ]
  },
  {
   "cell_type": "markdown",
   "id": "5b8c0bdf",
   "metadata": {},
   "source": [
    "<h2>LOCAL SEARCH</h2>"
   ]
  },
  {
   "cell_type": "code",
   "execution_count": 15,
   "id": "5d432f18",
   "metadata": {},
   "outputs": [
    {
     "name": "stdout",
     "output_type": "stream",
     "text": [
      "Optimized Solution: 0.4424116484476872\n"
     ]
    }
   ],
   "source": [
    "import math\n",
    "import random\n",
    "\n",
    "def objective_function(x):\n",
    "    return x ** 2 - 4 * x + 4\n",
    "\n",
    "def simulated_annealing(initial_solution, temperature, cooling_rate):\n",
    "    current_solution = initial_solution\n",
    "    best_solution = current_solution\n",
    "    \n",
    "    while temperature > 0.1:\n",
    "        new_solution = current_solution + random.uniform(-0.1, 0.1)\n",
    "        energy_difference = objective_function(new_solution) - objective_function(current_solution)\n",
    "        \n",
    "        if energy_difference < 0 or random.random() < math.exp(-energy_difference / temperature):\n",
    "            current_solution = new_solution\n",
    "        \n",
    "        if objective_function(current_solution) < objective_function(best_solution):\n",
    "            best_solution = current_solution\n",
    "        \n",
    "        temperature *= cooling_rate\n",
    "    \n",
    "    return best_solution\n",
    "\n",
    "initial_solution = 0\n",
    "temperature = 100\n",
    "cooling_rate = 0.95\n",
    "optimized_solution = simulated_annealing(initial_solution, temperature, cooling_rate)\n",
    "print(\"Optimized Solution:\", optimized_solution)"
   ]
  },
  {
   "cell_type": "markdown",
   "id": "78504329",
   "metadata": {},
   "source": [
    "<h2>Genetic Algorithm for finding the maximum value in a list</h2>"
   ]
  },
  {
   "cell_type": "code",
   "execution_count": 16,
   "id": "418e7ebe",
   "metadata": {},
   "outputs": [
    {
     "name": "stdout",
     "output_type": "stream",
     "text": [
      "Optimized Individual: [1, 1, 1, 1, 1, 1, 1, 1, 1, 1]\n"
     ]
    }
   ],
   "source": [
    "def fitness_function(individual):\n",
    "    return sum(individual)\n",
    "\n",
    "def genetic_algorithm(population_size, chromosome_length, generations):\n",
    "    population = [[random.randint(0, 1) for _ in range(chromosome_length)] for _ in range(population_size)]\n",
    "    \n",
    "    for generation in range(generations):\n",
    "        population.sort(key=lambda ind: fitness_function(ind), reverse=True)\n",
    "        elite = population[:int(population_size * 0.2)]\n",
    "        \n",
    "        new_population = elite.copy()\n",
    "        \n",
    "        while len(new_population) < population_size:\n",
    "            parent1, parent2 = random.choice(elite), random.choice(elite)\n",
    "            crossover_point = random.randint(1, chromosome_length - 1)\n",
    "            child = parent1[:crossover_point] + parent2[crossover_point:]\n",
    "            mutation_point = random.randint(0, chromosome_length - 1)\n",
    "            child[mutation_point] = 1 - child[mutation_point]\n",
    "            new_population.append(child)\n",
    "        \n",
    "        population = new_population\n",
    "    \n",
    "    return population[0]\n",
    "\n",
    "population_size = 50\n",
    "chromosome_length = 10\n",
    "generations = 100\n",
    "optimized_individual = genetic_algorithm(population_size, chromosome_length, generations)\n",
    "print(\"Optimized Individual:\", optimized_individual)"
   ]
  },
  {
   "cell_type": "code",
   "execution_count": 17,
   "id": "6ec040a2",
   "metadata": {},
   "outputs": [
    {
     "name": "stdout",
     "output_type": "stream",
     "text": [
      "Selected packages:\n",
      "{'value': 100, 'size': 40}\n",
      "{'value': 50, 'size': 20}\n"
     ]
    }
   ],
   "source": [
    "# Greedy Algorithm for Post Delivery Office Problem\n",
    "def greedy_algorithm(packages, capacity):\n",
    "    selected_packages = []\n",
    "    remaining_capacity = capacity\n",
    "\n",
    "    # Sort packages by value\n",
    "    packages.sort(key=lambda package: package['value'], reverse=True)\n",
    "\n",
    "    for package in packages:\n",
    "        if package['size'] <= remaining_capacity:\n",
    "            selected_packages.append(package)\n",
    "            remaining_capacity -= package['size']\n",
    "\n",
    "    return selected_packages\n",
    "\n",
    "# Example data: List of packages with value and size\n",
    "packages = [\n",
    "    {'value': 100, 'size': 40},\n",
    "    {'value': 50, 'size': 20},\n",
    "    {'value': 75, 'size': 30},\n",
    "    {'value': 30, 'size': 10},\n",
    "    {'value': 60, 'size': 25}\n",
    "]\n",
    "\n",
    "max_capacity = 60\n",
    "selected = greedy_algorithm(packages, max_capacity)\n",
    "print(\"Selected packages:\")\n",
    "for package in selected:\n",
    "    print(package)"
   ]
  },
  {
   "cell_type": "code",
   "execution_count": 20,
   "id": "d9a006fc",
   "metadata": {},
   "outputs": [
    {
     "name": "stdout",
     "output_type": "stream",
     "text": [
      "Predicted viewing figures for advertiser 1: 8.29\n",
      "Predicted viewing figures for advertiser 2: 16.25\n",
      "Predicted viewing figures for advertiser 3: 6.98\n",
      "Predicted viewing figures for advertiser 4: 10.76\n",
      "Predicted viewing figures for advertiser 5: 6.16\n",
      "Predicted viewing figures for advertiser 6: 6.13\n",
      "Predicted viewing figures for advertiser 7: 11.38\n",
      "Predicted viewing figures for advertiser 8: 15.21\n",
      "Predicted viewing figures for advertiser 9: 12.80\n",
      "Predicted viewing figures for advertiser 10: 6.03\n",
      "Predicted viewing figures for advertiser 11: 10.91\n",
      "Predicted viewing figures for advertiser 12: 8.71\n",
      "Predicted viewing figures for advertiser 13: 5.55\n",
      "Predicted viewing figures for advertiser 14: 3.80\n",
      "Predicted viewing figures for advertiser 15: 10.04\n",
      "Predicted viewing figures for advertiser 16: 6.72\n",
      "Predicted viewing figures for advertiser 17: 8.16\n",
      "Predicted viewing figures for advertiser 18: 14.24\n",
      "Predicted viewing figures for advertiser 19: 5.09\n",
      "Predicted viewing figures for advertiser 20: 12.60\n"
     ]
    }
   ],
   "source": [
    "import numpy as np\n",
    "from sklearn.model_selection import train_test_split\n",
    "from sklearn.linear_model import LinearRegression\n",
    "\n",
    "# Simulated data: features and target (viewing figures)\n",
    "# Replace this with your actual data\n",
    "features = np.random.rand(100, 3)  # Simulated features for each advertisement\n",
    "viewing_figures = 10 * features[:, 0] + 5 * features[:, 1] + 3 * features[:, 2] + np.random.normal(0, 2, 100)\n",
    "\n",
    "# Split the data into training and testing sets\n",
    "X_train, X_test, y_train, y_test = train_test_split(features, viewing_figures, test_size=0.2, random_state=42)\n",
    "\n",
    "# Create a linear regression model\n",
    "model = LinearRegression()\n",
    "\n",
    "# Fit the model to the training data\n",
    "model.fit(X_train, y_train)\n",
    "\n",
    "# Make predictions on the test data\n",
    "predictions = model.predict(X_test)\n",
    "\n",
    "# Print the predicted viewing figures for each advertiser\n",
    "for i, prediction in enumerate(predictions):\n",
    "    print(f\"Predicted viewing figures for advertiser {i+1}: {prediction:.2f}\")"
   ]
  },
  {
   "cell_type": "code",
   "execution_count": 21,
   "id": "24feed85",
   "metadata": {},
   "outputs": [
    {
     "ename": "NameError",
     "evalue": "name 'total_viewers' is not defined",
     "output_type": "error",
     "traceback": [
      "\u001b[1;31m------------------------------------------------------------------------\u001b[0m",
      "\u001b[1;31mNameError\u001b[0m                              Traceback (most recent call last)",
      "Cell \u001b[1;32mIn[21], line 25\u001b[0m\n\u001b[0;32m     21\u001b[0m initial_guess \u001b[38;5;241m=\u001b[39m [\u001b[38;5;241m1000\u001b[39m, \u001b[38;5;241m2000\u001b[39m, \u001b[38;5;241m1500\u001b[39m]\n\u001b[0;32m     24\u001b[0m \u001b[38;5;66;03m# Optimizing ad budgets using constraints from ML predictions\u001b[39;00m\n\u001b[1;32m---> 25\u001b[0m result \u001b[38;5;241m=\u001b[39m minimize(objective_function, initial_guess, constraints\u001b[38;5;241m=\u001b[39m{\u001b[38;5;124m'\u001b[39m\u001b[38;5;124mtype\u001b[39m\u001b[38;5;124m'\u001b[39m: \u001b[38;5;124m'\u001b[39m\u001b[38;5;124meq\u001b[39m\u001b[38;5;124m'\u001b[39m, \u001b[38;5;124m'\u001b[39m\u001b[38;5;124mfun\u001b[39m\u001b[38;5;124m'\u001b[39m: constraint})\n\u001b[0;32m     28\u001b[0m optimized_ad_budgets \u001b[38;5;241m=\u001b[39m result\u001b[38;5;241m.\u001b[39mx\n\u001b[0;32m     29\u001b[0m \u001b[38;5;28mprint\u001b[39m(\u001b[38;5;124m\"\u001b[39m\u001b[38;5;124mOptimized Ad Budgets:\u001b[39m\u001b[38;5;124m\"\u001b[39m, optimized_ad_budgets)\n",
      "File \u001b[1;32m~\\anaconda3\\Lib\\site-packages\\scipy\\optimize\\_minimize.py:719\u001b[0m, in \u001b[0;36mminimize\u001b[1;34m(fun, x0, args, method, jac, hess, hessp, bounds, constraints, tol, callback, options)\u001b[0m\n\u001b[0;32m    716\u001b[0m     res \u001b[38;5;241m=\u001b[39m _minimize_cobyla(fun, x0, args, constraints, callback\u001b[38;5;241m=\u001b[39mcallback,\n\u001b[0;32m    717\u001b[0m                            bounds\u001b[38;5;241m=\u001b[39mbounds, \u001b[38;5;241m*\u001b[39m\u001b[38;5;241m*\u001b[39moptions)\n\u001b[0;32m    718\u001b[0m \u001b[38;5;28;01melif\u001b[39;00m meth \u001b[38;5;241m==\u001b[39m \u001b[38;5;124m'\u001b[39m\u001b[38;5;124mslsqp\u001b[39m\u001b[38;5;124m'\u001b[39m:\n\u001b[1;32m--> 719\u001b[0m     res \u001b[38;5;241m=\u001b[39m _minimize_slsqp(fun, x0, args, jac, bounds,\n\u001b[0;32m    720\u001b[0m                           constraints, callback\u001b[38;5;241m=\u001b[39mcallback, \u001b[38;5;241m*\u001b[39m\u001b[38;5;241m*\u001b[39moptions)\n\u001b[0;32m    721\u001b[0m \u001b[38;5;28;01melif\u001b[39;00m meth \u001b[38;5;241m==\u001b[39m \u001b[38;5;124m'\u001b[39m\u001b[38;5;124mtrust-constr\u001b[39m\u001b[38;5;124m'\u001b[39m:\n\u001b[0;32m    722\u001b[0m     res \u001b[38;5;241m=\u001b[39m _minimize_trustregion_constr(fun, x0, args, jac, hess, hessp,\n\u001b[0;32m    723\u001b[0m                                        bounds, constraints,\n\u001b[0;32m    724\u001b[0m                                        callback\u001b[38;5;241m=\u001b[39mcallback, \u001b[38;5;241m*\u001b[39m\u001b[38;5;241m*\u001b[39moptions)\n",
      "File \u001b[1;32m~\\anaconda3\\Lib\\site-packages\\scipy\\optimize\\_slsqp_py.py:327\u001b[0m, in \u001b[0;36m_minimize_slsqp\u001b[1;34m(func, x0, args, jac, bounds, constraints, maxiter, ftol, iprint, disp, eps, callback, finite_diff_rel_step, **unknown_options)\u001b[0m\n\u001b[0;32m    313\u001b[0m exit_modes \u001b[38;5;241m=\u001b[39m {\u001b[38;5;241m-\u001b[39m\u001b[38;5;241m1\u001b[39m: \u001b[38;5;124m\"\u001b[39m\u001b[38;5;124mGradient evaluation required (g & a)\u001b[39m\u001b[38;5;124m\"\u001b[39m,\n\u001b[0;32m    314\u001b[0m                \u001b[38;5;241m0\u001b[39m: \u001b[38;5;124m\"\u001b[39m\u001b[38;5;124mOptimization terminated successfully\u001b[39m\u001b[38;5;124m\"\u001b[39m,\n\u001b[0;32m    315\u001b[0m                \u001b[38;5;241m1\u001b[39m: \u001b[38;5;124m\"\u001b[39m\u001b[38;5;124mFunction evaluation required (f & c)\u001b[39m\u001b[38;5;124m\"\u001b[39m,\n\u001b[1;32m   (...)\u001b[0m\n\u001b[0;32m    322\u001b[0m                \u001b[38;5;241m8\u001b[39m: \u001b[38;5;124m\"\u001b[39m\u001b[38;5;124mPositive directional derivative for linesearch\u001b[39m\u001b[38;5;124m\"\u001b[39m,\n\u001b[0;32m    323\u001b[0m                \u001b[38;5;241m9\u001b[39m: \u001b[38;5;124m\"\u001b[39m\u001b[38;5;124mIteration limit reached\u001b[39m\u001b[38;5;124m\"\u001b[39m}\n\u001b[0;32m    325\u001b[0m \u001b[38;5;66;03m# Set the parameters that SLSQP will need\u001b[39;00m\n\u001b[0;32m    326\u001b[0m \u001b[38;5;66;03m# meq, mieq: number of equality and inequality constraints\u001b[39;00m\n\u001b[1;32m--> 327\u001b[0m meq \u001b[38;5;241m=\u001b[39m \u001b[38;5;28msum\u001b[39m(\u001b[38;5;28mmap\u001b[39m(\u001b[38;5;28mlen\u001b[39m, [atleast_1d(c[\u001b[38;5;124m'\u001b[39m\u001b[38;5;124mfun\u001b[39m\u001b[38;5;124m'\u001b[39m](x, \u001b[38;5;241m*\u001b[39mc[\u001b[38;5;124m'\u001b[39m\u001b[38;5;124margs\u001b[39m\u001b[38;5;124m'\u001b[39m]))\n\u001b[0;32m    328\u001b[0m           \u001b[38;5;28;01mfor\u001b[39;00m c \u001b[38;5;129;01min\u001b[39;00m cons[\u001b[38;5;124m'\u001b[39m\u001b[38;5;124meq\u001b[39m\u001b[38;5;124m'\u001b[39m]]))\n\u001b[0;32m    329\u001b[0m mieq \u001b[38;5;241m=\u001b[39m \u001b[38;5;28msum\u001b[39m(\u001b[38;5;28mmap\u001b[39m(\u001b[38;5;28mlen\u001b[39m, [atleast_1d(c[\u001b[38;5;124m'\u001b[39m\u001b[38;5;124mfun\u001b[39m\u001b[38;5;124m'\u001b[39m](x, \u001b[38;5;241m*\u001b[39mc[\u001b[38;5;124m'\u001b[39m\u001b[38;5;124margs\u001b[39m\u001b[38;5;124m'\u001b[39m]))\n\u001b[0;32m    330\u001b[0m            \u001b[38;5;28;01mfor\u001b[39;00m c \u001b[38;5;129;01min\u001b[39;00m cons[\u001b[38;5;124m'\u001b[39m\u001b[38;5;124mineq\u001b[39m\u001b[38;5;124m'\u001b[39m]]))\n\u001b[0;32m    331\u001b[0m \u001b[38;5;66;03m# m = The total number of constraints\u001b[39;00m\n",
      "File \u001b[1;32m~\\anaconda3\\Lib\\site-packages\\scipy\\optimize\\_slsqp_py.py:327\u001b[0m, in \u001b[0;36m<listcomp>\u001b[1;34m(.0)\u001b[0m\n\u001b[0;32m    313\u001b[0m exit_modes \u001b[38;5;241m=\u001b[39m {\u001b[38;5;241m-\u001b[39m\u001b[38;5;241m1\u001b[39m: \u001b[38;5;124m\"\u001b[39m\u001b[38;5;124mGradient evaluation required (g & a)\u001b[39m\u001b[38;5;124m\"\u001b[39m,\n\u001b[0;32m    314\u001b[0m                \u001b[38;5;241m0\u001b[39m: \u001b[38;5;124m\"\u001b[39m\u001b[38;5;124mOptimization terminated successfully\u001b[39m\u001b[38;5;124m\"\u001b[39m,\n\u001b[0;32m    315\u001b[0m                \u001b[38;5;241m1\u001b[39m: \u001b[38;5;124m\"\u001b[39m\u001b[38;5;124mFunction evaluation required (f & c)\u001b[39m\u001b[38;5;124m\"\u001b[39m,\n\u001b[1;32m   (...)\u001b[0m\n\u001b[0;32m    322\u001b[0m                \u001b[38;5;241m8\u001b[39m: \u001b[38;5;124m\"\u001b[39m\u001b[38;5;124mPositive directional derivative for linesearch\u001b[39m\u001b[38;5;124m\"\u001b[39m,\n\u001b[0;32m    323\u001b[0m                \u001b[38;5;241m9\u001b[39m: \u001b[38;5;124m\"\u001b[39m\u001b[38;5;124mIteration limit reached\u001b[39m\u001b[38;5;124m\"\u001b[39m}\n\u001b[0;32m    325\u001b[0m \u001b[38;5;66;03m# Set the parameters that SLSQP will need\u001b[39;00m\n\u001b[0;32m    326\u001b[0m \u001b[38;5;66;03m# meq, mieq: number of equality and inequality constraints\u001b[39;00m\n\u001b[1;32m--> 327\u001b[0m meq \u001b[38;5;241m=\u001b[39m \u001b[38;5;28msum\u001b[39m(\u001b[38;5;28mmap\u001b[39m(\u001b[38;5;28mlen\u001b[39m, [atleast_1d(c[\u001b[38;5;124m'\u001b[39m\u001b[38;5;124mfun\u001b[39m\u001b[38;5;124m'\u001b[39m](x, \u001b[38;5;241m*\u001b[39mc[\u001b[38;5;124m'\u001b[39m\u001b[38;5;124margs\u001b[39m\u001b[38;5;124m'\u001b[39m]))\n\u001b[0;32m    328\u001b[0m           \u001b[38;5;28;01mfor\u001b[39;00m c \u001b[38;5;129;01min\u001b[39;00m cons[\u001b[38;5;124m'\u001b[39m\u001b[38;5;124meq\u001b[39m\u001b[38;5;124m'\u001b[39m]]))\n\u001b[0;32m    329\u001b[0m mieq \u001b[38;5;241m=\u001b[39m \u001b[38;5;28msum\u001b[39m(\u001b[38;5;28mmap\u001b[39m(\u001b[38;5;28mlen\u001b[39m, [atleast_1d(c[\u001b[38;5;124m'\u001b[39m\u001b[38;5;124mfun\u001b[39m\u001b[38;5;124m'\u001b[39m](x, \u001b[38;5;241m*\u001b[39mc[\u001b[38;5;124m'\u001b[39m\u001b[38;5;124margs\u001b[39m\u001b[38;5;124m'\u001b[39m]))\n\u001b[0;32m    330\u001b[0m            \u001b[38;5;28;01mfor\u001b[39;00m c \u001b[38;5;129;01min\u001b[39;00m cons[\u001b[38;5;124m'\u001b[39m\u001b[38;5;124mineq\u001b[39m\u001b[38;5;124m'\u001b[39m]]))\n\u001b[0;32m    331\u001b[0m \u001b[38;5;66;03m# m = The total number of constraints\u001b[39;00m\n",
      "Cell \u001b[1;32mIn[21], line 17\u001b[0m, in \u001b[0;36mconstraint\u001b[1;34m(ad_budgets)\u001b[0m\n\u001b[0;32m     15\u001b[0m \u001b[38;5;28;01mdef\u001b[39;00m \u001b[38;5;21mconstraint\u001b[39m(ad_budgets):\n\u001b[0;32m     16\u001b[0m     \u001b[38;5;66;03m# Replace with actual constraints based on predictions\u001b[39;00m\n\u001b[1;32m---> 17\u001b[0m     \u001b[38;5;28;01mreturn\u001b[39;00m total_viewers \u001b[38;5;241m-\u001b[39m \u001b[38;5;28msum\u001b[39m(predicted_viewers)\n",
      "\u001b[1;31mNameError\u001b[0m: name 'total_viewers' is not defined"
     ]
    }
   ],
   "source": [
    "# Python code to combine ML predictions with optimization\n",
    "# See above for ML predictions for viewing figures for each advertiser\n",
    "\n",
    "\n",
    "from scipy.optimize import minimize\n",
    "\n",
    "\n",
    "# Objective function to maximize profit based on ML predictions\n",
    "def objective_function(ad_budgets):\n",
    "    # Replace with actual calculations based on predictions and constraints\n",
    "    return -1 * profit  # Negate for maximization\n",
    "\n",
    "\n",
    "# Constraints based on ML predictions\n",
    "def constraint(ad_budgets):\n",
    "    # Replace with actual constraints based on predictions\n",
    "    return total_viewers - sum(predicted_viewers)\n",
    "\n",
    "\n",
    "# Initial guess for ad budgets\n",
    "initial_guess = [1000, 2000, 1500]\n",
    "\n",
    "\n",
    "# Optimizing ad budgets using constraints from ML predictions\n",
    "result = minimize(objective_function, initial_guess, constraints={'type': 'eq', 'fun': constraint})\n",
    "\n",
    "\n",
    "optimized_ad_budgets = result.x\n",
    "print(\"Optimized Ad Budgets:\", optimized_ad_budgets)"
   ]
  },
  {
   "cell_type": "code",
   "execution_count": 24,
   "id": "8f93dd29",
   "metadata": {},
   "outputs": [
    {
     "ename": "KeyError",
     "evalue": "('Plant1', 'Plant1')",
     "output_type": "error",
     "traceback": [
      "\u001b[1;31m------------------------------------------------------------------------\u001b[0m",
      "\u001b[1;31mKeyError\u001b[0m                               Traceback (most recent call last)",
      "Cell \u001b[1;32mIn[24], line 28\u001b[0m\n\u001b[0;32m     26\u001b[0m \u001b[38;5;66;03m# Add capacity constraints for each plant\u001b[39;00m\n\u001b[0;32m     27\u001b[0m \u001b[38;5;28;01mfor\u001b[39;00m plant \u001b[38;5;129;01min\u001b[39;00m shipment_capacity:\n\u001b[1;32m---> 28\u001b[0m     problem \u001b[38;5;241m+\u001b[39m\u001b[38;5;241m=\u001b[39m \u001b[38;5;28msum\u001b[39m(shipments[(plant, market)] \u001b[38;5;28;01mfor\u001b[39;00m market \u001b[38;5;129;01min\u001b[39;00m shipment_capacity) \u001b[38;5;241m<\u001b[39m\u001b[38;5;241m=\u001b[39m shipment_capacity[plant]\n\u001b[0;32m     30\u001b[0m \u001b[38;5;66;03m# Solve the problem\u001b[39;00m\n\u001b[0;32m     31\u001b[0m problem\u001b[38;5;241m.\u001b[39msolve()\n",
      "Cell \u001b[1;32mIn[24], line 28\u001b[0m, in \u001b[0;36m<genexpr>\u001b[1;34m(.0)\u001b[0m\n\u001b[0;32m     26\u001b[0m \u001b[38;5;66;03m# Add capacity constraints for each plant\u001b[39;00m\n\u001b[0;32m     27\u001b[0m \u001b[38;5;28;01mfor\u001b[39;00m plant \u001b[38;5;129;01min\u001b[39;00m shipment_capacity:\n\u001b[1;32m---> 28\u001b[0m     problem \u001b[38;5;241m+\u001b[39m\u001b[38;5;241m=\u001b[39m \u001b[38;5;28msum\u001b[39m(shipments[(plant, market)] \u001b[38;5;28;01mfor\u001b[39;00m market \u001b[38;5;129;01min\u001b[39;00m shipment_capacity) \u001b[38;5;241m<\u001b[39m\u001b[38;5;241m=\u001b[39m shipment_capacity[plant]\n\u001b[0;32m     30\u001b[0m \u001b[38;5;66;03m# Solve the problem\u001b[39;00m\n\u001b[0;32m     31\u001b[0m problem\u001b[38;5;241m.\u001b[39msolve()\n",
      "\u001b[1;31mKeyError\u001b[0m: ('Plant1', 'Plant1')"
     ]
    }
   ],
   "source": [
    "from pulp import LpProblem, LpVariable, LpMaximize\n",
    "\n",
    "# Define data: shipment quantities, costs, and capacity\n",
    "shipment_costs = {\n",
    "    ('Plant1', 'Market1'): 5,\n",
    "    ('Plant1', 'Market2'): 6,\n",
    "    ('Plant2', 'Market1'): 8,\n",
    "    ('Plant2', 'Market2'): 9,\n",
    "}\n",
    "\n",
    "shipment_capacity = {\n",
    "    'Plant1': 100,\n",
    "    'Plant2': 150,\n",
    "}\n",
    "\n",
    "# Create a linear programming problem\n",
    "problem = LpProblem(\"Shipment_Optimization\", LpMaximize)\n",
    "\n",
    "# Create decision variables\n",
    "shipments = LpVariable.dicts(\"Shipments\", shipment_costs, lowBound=0, cat='Integer')\n",
    "\n",
    "# Set objective: maximize total profit\n",
    "problem += sum(shipments[(plant, market)] * shipment_costs[(plant, market)] \n",
    "               for plant, market in shipment_costs.keys())\n",
    "\n",
    "# Add capacity constraints for each plant\n",
    "for plant in shipment_capacity:\n",
    "    problem += sum(shipments[(plant, market)] for market in shipment_capacity) <= shipment_capacity[plant]\n",
    "\n",
    "# Solve the problem\n",
    "problem.solve()\n",
    "\n",
    "# Print the results\n",
    "print(\"Optimal Shipments:\")\n",
    "for plant, market in shipments:\n",
    "    quantity = shipments[(plant, market)].varValue\n",
    "    if quantity > 0:\n",
    "        print(f\"Ship {quantity} units from {plant} to {market}\")\n",
    "\n",
    "# Print the optimal objective value (total profit)\n",
    "print(\"Total Profit:\", problem.objective.value())"
   ]
  },
  {
   "cell_type": "code",
   "execution_count": null,
   "id": "dacb9515",
   "metadata": {},
   "outputs": [],
   "source": []
  }
 ],
 "metadata": {
  "kernelspec": {
   "display_name": "Python 3 (ipykernel)",
   "language": "python",
   "name": "python3"
  },
  "language_info": {
   "codemirror_mode": {
    "name": "ipython",
    "version": 3
   },
   "file_extension": ".py",
   "mimetype": "text/x-python",
   "name": "python",
   "nbconvert_exporter": "python",
   "pygments_lexer": "ipython3",
   "version": "3.11.5"
  }
 },
 "nbformat": 4,
 "nbformat_minor": 5
}
