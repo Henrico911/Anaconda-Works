{
 "cells": [
  {
   "cell_type": "code",
   "execution_count": 4,
   "id": "7db0f295",
   "metadata": {},
   "outputs": [
    {
     "name": "stdout",
     "output_type": "stream",
     "text": [
      "Entropy: 2.01557590771775\n"
     ]
    }
   ],
   "source": [
    "import math\n",
    "\n",
    "# Given probabilities\n",
    "probabilities = [0.20, 0.25, 0.30, 0.35]\n",
    "\n",
    "# Calculate entropy\n",
    "entropy = -sum(p * math.log2(p) for p in probabilities if p > 0)\n",
    "\n",
    "print(\"Entropy:\", entropy)\n"
   ]
  },
  {
   "cell_type": "code",
   "execution_count": 3,
   "id": "98f97d31",
   "metadata": {},
   "outputs": [
    {
     "name": "stdout",
     "output_type": "stream",
     "text": [
      "Gini Index: 0.685\n"
     ]
    }
   ],
   "source": [
    "# Given probabilities\n",
    "probabilities = [0.20, 0.25, 0.30, 0.35]\n",
    "\n",
    "# Calculate Gini index\n",
    "gini_index = 1 - sum(p ** 2 for p in probabilities)\n",
    "\n",
    "print(\"Gini Index:\", gini_index)\n"
   ]
  },
  {
   "cell_type": "code",
   "execution_count": null,
   "id": "3154bc56",
   "metadata": {},
   "outputs": [],
   "source": []
  }
 ],
 "metadata": {
  "kernelspec": {
   "display_name": "Python 3 (ipykernel)",
   "language": "python",
   "name": "python3"
  },
  "language_info": {
   "codemirror_mode": {
    "name": "ipython",
    "version": 3
   },
   "file_extension": ".py",
   "mimetype": "text/x-python",
   "name": "python",
   "nbconvert_exporter": "python",
   "pygments_lexer": "ipython3",
   "version": "3.11.5"
  }
 },
 "nbformat": 4,
 "nbformat_minor": 5
}
