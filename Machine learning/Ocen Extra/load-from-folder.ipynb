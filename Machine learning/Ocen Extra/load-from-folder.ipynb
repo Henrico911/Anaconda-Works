{
 "cells": [
  {
   "cell_type": "code",
   "execution_count": 7,
   "id": "72fd358f",
   "metadata": {},
   "outputs": [],
   "source": [
    "import os\n",
    "from sklearn.linear_model import LogisticRegression\n",
    "from sklearn.metrics import accuracy_score, precision_score, recall_score, f1_score, confusion_matrix\n",
    "from sklearn.model_selection import train_test_split\n",
    "from skimage.transform import resize\n",
    "from skimage import io\n",
    "import matplotlib.pyplot as plt\n",
    "import seaborn as sb\n",
    "import numpy as np"
   ]
  },
  {
   "cell_type": "code",
   "execution_count": 8,
   "id": "3172d501",
   "metadata": {},
   "outputs": [],
   "source": [
    "#define constants\n",
    "image_size = (150, 150)\n",
    "\n",
    "#load image data and preprocess it\n",
    "def load_images_from_folder(folder):\n",
    "    images = []\n",
    "    label = []\n",
    "    for subfolder in os.listdir(folder):\n",
    "        subfolder_path = os.path.join(folder, subfolder)\n",
    "        for filename in os.listdir(subfolder_path):\n",
    "            img = io.imread(os.path.join(subfolder_path, filename))\n",
    "            img = resize(img, image_size)\n",
    "            images.append(img.flatten())\n",
    "            labels.append(subfolder)\n",
    "    return images, labels\n",
    "\n",
    "\n",
    "#load data\n",
    "train_data, train_labels = load_images_from_folder()\n",
    "test_data, test_labels = load_images_from_folder()\n"
   ]
  },
  {
   "cell_type": "code",
   "execution_count": null,
   "id": "41f6cf64",
   "metadata": {},
   "outputs": [],
   "source": []
  }
 ],
 "metadata": {
  "kernelspec": {
   "display_name": "Python 3 (ipykernel)",
   "language": "python",
   "name": "python3"
  },
  "language_info": {
   "codemirror_mode": {
    "name": "ipython",
    "version": 3
   },
   "file_extension": ".py",
   "mimetype": "text/x-python",
   "name": "python",
   "nbconvert_exporter": "python",
   "pygments_lexer": "ipython3",
   "version": "3.11.5"
  }
 },
 "nbformat": 4,
 "nbformat_minor": 5
}
